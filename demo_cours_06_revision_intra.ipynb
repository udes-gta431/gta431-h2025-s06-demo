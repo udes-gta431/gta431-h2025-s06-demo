{
 "cells": [
  {
   "cell_type": "code",
   "id": "initial_id",
   "metadata": {
    "collapsed": true,
    "ExecuteTime": {
     "end_time": "2025-02-11T08:59:54.101815Z",
     "start_time": "2025-02-11T08:59:54.096917Z"
    }
   },
   "source": [
    "import pandas as pd\n",
    "import time\n",
    "\n",
    "\n",
    "class Timer:\n",
    "    def __init__(self, name=None):\n",
    "        self.name = name\n",
    "        self.start_time = None\n",
    "\n",
    "    def __enter__(self):\n",
    "        self.start_time = time.time_ns() / 1000\n",
    "        return self\n",
    "\n",
    "    def __exit__(self, exc_type, exc_val, exc_tb):\n",
    "        end_time = time.time_ns() / 1000  # Record end time\n",
    "        elapsed = end_time - self.start_time\n",
    "        if self.name:\n",
    "            print(f\"[{self.name}] Elapsed time: {elapsed:.2f} milliseconds\")\n",
    "        else:\n",
    "            print(f\"Elapsed time: {elapsed:.2f} milliseconds\")"
   ],
   "outputs": [],
   "execution_count": 742
  },
  {
   "metadata": {},
   "cell_type": "markdown",
   "source": "### 1. Lecture CSV et renommage",
   "id": "5afa089d8db6e2b5"
  },
  {
   "metadata": {
    "ExecuteTime": {
     "end_time": "2025-02-11T08:59:54.154266Z",
     "start_time": "2025-02-11T08:59:54.106900Z"
    }
   },
   "cell_type": "code",
   "source": [
    "# https://catalog.data.gov/dataset/meteorite-landings\n",
    "df_meteorites = pd.read_csv(\"data/nasa_meteorites.csv\")\n",
    "\n",
    "df_meteorites.columns"
   ],
   "id": "6624be01d059c63",
   "outputs": [
    {
     "data": {
      "text/plain": [
       "Index(['name', 'id', 'nametype', 'recclass', 'mass (g)', 'fall', 'year',\n",
       "       'reclat', 'reclong', 'country_id', 'GeoLocation'],\n",
       "      dtype='object')"
      ]
     },
     "execution_count": 743,
     "metadata": {},
     "output_type": "execute_result"
    }
   ],
   "execution_count": 743
  },
  {
   "metadata": {
    "ExecuteTime": {
     "end_time": "2025-02-11T08:59:54.162861Z",
     "start_time": "2025-02-11T08:59:54.158016Z"
    }
   },
   "cell_type": "code",
   "source": [
    "# On a les long / lat déjà, on supprime la colonne GeoLocation\n",
    "df_meteorites = df_meteorites.drop(\"GeoLocation\", axis=1)"
   ],
   "id": "94d3fbd350d8bc86",
   "outputs": [],
   "execution_count": 744
  },
  {
   "metadata": {
    "ExecuteTime": {
     "end_time": "2025-02-11T08:59:54.170495Z",
     "start_time": "2025-02-11T08:59:54.165987Z"
    }
   },
   "cell_type": "code",
   "source": [
    "# On renomme en snake_case les colonnes qui sont mal nommées\n",
    "df_meteorites = df_meteorites.rename(columns={\n",
    "    \"nametype\": \"name_type\",\n",
    "    \"recclass\": \"rec_class\",\n",
    "    \"mass (g)\": \"mass_g\",\n",
    "    \"reclat\": \"latitude\",\n",
    "    \"reclong\": \"longitude\",\n",
    "})"
   ],
   "id": "9c1e96694d6e7ce",
   "outputs": [],
   "execution_count": 745
  },
  {
   "metadata": {},
   "cell_type": "markdown",
   "source": "### 2. Validation des données (qualité)",
   "id": "ae40a446326186fd"
  },
  {
   "metadata": {
    "ExecuteTime": {
     "end_time": "2025-02-11T08:59:54.181662Z",
     "start_time": "2025-02-11T08:59:54.173373Z"
    }
   },
   "cell_type": "code",
   "source": [
    "# On valide que les latitude / longitude ne sont pas nulles\n",
    "df_meteorites[(df_meteorites.latitude.isna()) | df_meteorites.longitude.isna()]"
   ],
   "id": "3e1094ab2a0d479c",
   "outputs": [
    {
     "data": {
      "text/plain": [
       "                      name     id name_type              rec_class    mass_g  \\\n",
       "147              Bulls Run   5163     Valid                  Iron?  2250.000   \n",
       "208                Clohars   5383     Valid                     L4    48.600   \n",
       "409               Jalanash  12068     Valid               Ureilite   700.000   \n",
       "414               Jemlapur  12079     Valid                     L6   450.000   \n",
       "520    Cumulus Hills 04075  32531     Valid              Pallasite     9.600   \n",
       "...                    ...    ...       ...                    ...       ...   \n",
       "44000        Yamato 981086  37708     Valid                     H4     5.227   \n",
       "44001        Yamato 981090  37712     Valid                     H4     8.682   \n",
       "45589        Yamato 984028  40648     Valid  Martian (shergottite)    12.342   \n",
       "45660          Yambo no. 2  30346     Valid                     L3     3.200   \n",
       "45692     Zacatecas (1969)  30382     Valid            Iron, IIIAB  6660.000   \n",
       "\n",
       "        fall    year  latitude  longitude  country_id  \n",
       "147     Fell  1964.0       NaN        NaN         NaN  \n",
       "208     Fell  1822.0       NaN        NaN         NaN  \n",
       "409     Fell  1990.0       NaN        NaN         NaN  \n",
       "414     Fell  1901.0       NaN        NaN         NaN  \n",
       "520    Found  2003.0       NaN        NaN         NaN  \n",
       "...      ...     ...       ...        ...         ...  \n",
       "44000  Found  1998.0       NaN        NaN         NaN  \n",
       "44001  Found  1998.0       NaN        NaN         NaN  \n",
       "45589  Found  1998.0       NaN        NaN         NaN  \n",
       "45660  Found  1975.0       NaN        NaN         NaN  \n",
       "45692  Found  1969.0       NaN        NaN         NaN  \n",
       "\n",
       "[7315 rows x 10 columns]"
      ],
      "text/html": [
       "<div>\n",
       "<style scoped>\n",
       "    .dataframe tbody tr th:only-of-type {\n",
       "        vertical-align: middle;\n",
       "    }\n",
       "\n",
       "    .dataframe tbody tr th {\n",
       "        vertical-align: top;\n",
       "    }\n",
       "\n",
       "    .dataframe thead th {\n",
       "        text-align: right;\n",
       "    }\n",
       "</style>\n",
       "<table border=\"1\" class=\"dataframe\">\n",
       "  <thead>\n",
       "    <tr style=\"text-align: right;\">\n",
       "      <th></th>\n",
       "      <th>name</th>\n",
       "      <th>id</th>\n",
       "      <th>name_type</th>\n",
       "      <th>rec_class</th>\n",
       "      <th>mass_g</th>\n",
       "      <th>fall</th>\n",
       "      <th>year</th>\n",
       "      <th>latitude</th>\n",
       "      <th>longitude</th>\n",
       "      <th>country_id</th>\n",
       "    </tr>\n",
       "  </thead>\n",
       "  <tbody>\n",
       "    <tr>\n",
       "      <th>147</th>\n",
       "      <td>Bulls Run</td>\n",
       "      <td>5163</td>\n",
       "      <td>Valid</td>\n",
       "      <td>Iron?</td>\n",
       "      <td>2250.000</td>\n",
       "      <td>Fell</td>\n",
       "      <td>1964.0</td>\n",
       "      <td>NaN</td>\n",
       "      <td>NaN</td>\n",
       "      <td>NaN</td>\n",
       "    </tr>\n",
       "    <tr>\n",
       "      <th>208</th>\n",
       "      <td>Clohars</td>\n",
       "      <td>5383</td>\n",
       "      <td>Valid</td>\n",
       "      <td>L4</td>\n",
       "      <td>48.600</td>\n",
       "      <td>Fell</td>\n",
       "      <td>1822.0</td>\n",
       "      <td>NaN</td>\n",
       "      <td>NaN</td>\n",
       "      <td>NaN</td>\n",
       "    </tr>\n",
       "    <tr>\n",
       "      <th>409</th>\n",
       "      <td>Jalanash</td>\n",
       "      <td>12068</td>\n",
       "      <td>Valid</td>\n",
       "      <td>Ureilite</td>\n",
       "      <td>700.000</td>\n",
       "      <td>Fell</td>\n",
       "      <td>1990.0</td>\n",
       "      <td>NaN</td>\n",
       "      <td>NaN</td>\n",
       "      <td>NaN</td>\n",
       "    </tr>\n",
       "    <tr>\n",
       "      <th>414</th>\n",
       "      <td>Jemlapur</td>\n",
       "      <td>12079</td>\n",
       "      <td>Valid</td>\n",
       "      <td>L6</td>\n",
       "      <td>450.000</td>\n",
       "      <td>Fell</td>\n",
       "      <td>1901.0</td>\n",
       "      <td>NaN</td>\n",
       "      <td>NaN</td>\n",
       "      <td>NaN</td>\n",
       "    </tr>\n",
       "    <tr>\n",
       "      <th>520</th>\n",
       "      <td>Cumulus Hills 04075</td>\n",
       "      <td>32531</td>\n",
       "      <td>Valid</td>\n",
       "      <td>Pallasite</td>\n",
       "      <td>9.600</td>\n",
       "      <td>Found</td>\n",
       "      <td>2003.0</td>\n",
       "      <td>NaN</td>\n",
       "      <td>NaN</td>\n",
       "      <td>NaN</td>\n",
       "    </tr>\n",
       "    <tr>\n",
       "      <th>...</th>\n",
       "      <td>...</td>\n",
       "      <td>...</td>\n",
       "      <td>...</td>\n",
       "      <td>...</td>\n",
       "      <td>...</td>\n",
       "      <td>...</td>\n",
       "      <td>...</td>\n",
       "      <td>...</td>\n",
       "      <td>...</td>\n",
       "      <td>...</td>\n",
       "    </tr>\n",
       "    <tr>\n",
       "      <th>44000</th>\n",
       "      <td>Yamato 981086</td>\n",
       "      <td>37708</td>\n",
       "      <td>Valid</td>\n",
       "      <td>H4</td>\n",
       "      <td>5.227</td>\n",
       "      <td>Found</td>\n",
       "      <td>1998.0</td>\n",
       "      <td>NaN</td>\n",
       "      <td>NaN</td>\n",
       "      <td>NaN</td>\n",
       "    </tr>\n",
       "    <tr>\n",
       "      <th>44001</th>\n",
       "      <td>Yamato 981090</td>\n",
       "      <td>37712</td>\n",
       "      <td>Valid</td>\n",
       "      <td>H4</td>\n",
       "      <td>8.682</td>\n",
       "      <td>Found</td>\n",
       "      <td>1998.0</td>\n",
       "      <td>NaN</td>\n",
       "      <td>NaN</td>\n",
       "      <td>NaN</td>\n",
       "    </tr>\n",
       "    <tr>\n",
       "      <th>45589</th>\n",
       "      <td>Yamato 984028</td>\n",
       "      <td>40648</td>\n",
       "      <td>Valid</td>\n",
       "      <td>Martian (shergottite)</td>\n",
       "      <td>12.342</td>\n",
       "      <td>Found</td>\n",
       "      <td>1998.0</td>\n",
       "      <td>NaN</td>\n",
       "      <td>NaN</td>\n",
       "      <td>NaN</td>\n",
       "    </tr>\n",
       "    <tr>\n",
       "      <th>45660</th>\n",
       "      <td>Yambo no. 2</td>\n",
       "      <td>30346</td>\n",
       "      <td>Valid</td>\n",
       "      <td>L3</td>\n",
       "      <td>3.200</td>\n",
       "      <td>Found</td>\n",
       "      <td>1975.0</td>\n",
       "      <td>NaN</td>\n",
       "      <td>NaN</td>\n",
       "      <td>NaN</td>\n",
       "    </tr>\n",
       "    <tr>\n",
       "      <th>45692</th>\n",
       "      <td>Zacatecas (1969)</td>\n",
       "      <td>30382</td>\n",
       "      <td>Valid</td>\n",
       "      <td>Iron, IIIAB</td>\n",
       "      <td>6660.000</td>\n",
       "      <td>Found</td>\n",
       "      <td>1969.0</td>\n",
       "      <td>NaN</td>\n",
       "      <td>NaN</td>\n",
       "      <td>NaN</td>\n",
       "    </tr>\n",
       "  </tbody>\n",
       "</table>\n",
       "<p>7315 rows × 10 columns</p>\n",
       "</div>"
      ]
     },
     "execution_count": 746,
     "metadata": {},
     "output_type": "execute_result"
    }
   ],
   "execution_count": 746
  },
  {
   "metadata": {
    "ExecuteTime": {
     "end_time": "2025-02-11T08:59:54.192220Z",
     "start_time": "2025-02-11T08:59:54.186042Z"
    }
   },
   "cell_type": "code",
   "source": [
    "# On vérifie s'il y a des duplicats dans les noms de météorites\n",
    "df_meteorites[df_meteorites.name.duplicated()]"
   ],
   "id": "e8624cc681c311a",
   "outputs": [
    {
     "data": {
      "text/plain": [
       "Empty DataFrame\n",
       "Columns: [name, id, name_type, rec_class, mass_g, fall, year, latitude, longitude, country_id]\n",
       "Index: []"
      ],
      "text/html": [
       "<div>\n",
       "<style scoped>\n",
       "    .dataframe tbody tr th:only-of-type {\n",
       "        vertical-align: middle;\n",
       "    }\n",
       "\n",
       "    .dataframe tbody tr th {\n",
       "        vertical-align: top;\n",
       "    }\n",
       "\n",
       "    .dataframe thead th {\n",
       "        text-align: right;\n",
       "    }\n",
       "</style>\n",
       "<table border=\"1\" class=\"dataframe\">\n",
       "  <thead>\n",
       "    <tr style=\"text-align: right;\">\n",
       "      <th></th>\n",
       "      <th>name</th>\n",
       "      <th>id</th>\n",
       "      <th>name_type</th>\n",
       "      <th>rec_class</th>\n",
       "      <th>mass_g</th>\n",
       "      <th>fall</th>\n",
       "      <th>year</th>\n",
       "      <th>latitude</th>\n",
       "      <th>longitude</th>\n",
       "      <th>country_id</th>\n",
       "    </tr>\n",
       "  </thead>\n",
       "  <tbody>\n",
       "  </tbody>\n",
       "</table>\n",
       "</div>"
      ]
     },
     "execution_count": 747,
     "metadata": {},
     "output_type": "execute_result"
    }
   ],
   "execution_count": 747
  },
  {
   "metadata": {
    "ExecuteTime": {
     "end_time": "2025-02-11T08:59:54.224697Z",
     "start_time": "2025-02-11T08:59:54.219983Z"
    }
   },
   "cell_type": "code",
   "source": [
    "# On explore les différentes valeurs de la colonne name_type\n",
    "df_meteorites.name_type.value_counts()"
   ],
   "id": "1126ef0abee9bf70",
   "outputs": [
    {
     "data": {
      "text/plain": [
       "name_type\n",
       "Valid     45641\n",
       "Relict       75\n",
       "Name: count, dtype: int64"
      ]
     },
     "execution_count": 748,
     "metadata": {},
     "output_type": "execute_result"
    }
   ],
   "execution_count": 748
  },
  {
   "metadata": {},
   "cell_type": "markdown",
   "source": "### 3. La performance et les index",
   "id": "f5f0f4d37683a7f6"
  },
  {
   "metadata": {
    "ExecuteTime": {
     "end_time": "2025-02-11T08:59:54.279359Z",
     "start_time": "2025-02-11T08:59:54.276575Z"
    }
   },
   "cell_type": "code",
   "source": [
    "# Regardons ça prend combien de millisecondes pour aller chercher une ligne précise du df\n",
    "with Timer():\n",
    "    df_meteorites_455 = df_meteorites[df_meteorites[\"id\"] == 455]"
   ],
   "id": "1ec29b46eaa0a6c0",
   "outputs": [
    {
     "name": "stdout",
     "output_type": "stream",
     "text": [
      "Elapsed time: 753.00 milliseconds\n"
     ]
    }
   ],
   "execution_count": 749
  },
  {
   "metadata": {
    "ExecuteTime": {
     "end_time": "2025-02-11T08:59:54.323879Z",
     "start_time": "2025-02-11T08:59:54.315778Z"
    }
   },
   "cell_type": "code",
   "source": [
    "df_meteorites.set_index(\"id\").sort_index()\n",
    "\n",
    "with Timer():\n",
    "    df_meteorites_455_02 = df_meteorites[df_meteorites[\"id\"] == 455]"
   ],
   "id": "67e11b6433222969",
   "outputs": [
    {
     "name": "stdout",
     "output_type": "stream",
     "text": [
      "Elapsed time: 275.00 milliseconds\n"
     ]
    }
   ],
   "execution_count": 750
  },
  {
   "metadata": {},
   "cell_type": "markdown",
   "source": "### 4. JOIN avec les pays",
   "id": "34ef0b11d77395c3"
  },
  {
   "metadata": {
    "ExecuteTime": {
     "end_time": "2025-02-11T08:59:54.347673Z",
     "start_time": "2025-02-11T08:59:54.342165Z"
    }
   },
   "cell_type": "code",
   "source": [
    "# On lit un fichier JSON (fichier hiérarchique)\n",
    "df_countries = pd.read_json(\"data/countries.json\")\n",
    "df_countries.rename(columns={\"name\": \"country_name\", \"id\": \"_country_id\"}, inplace=True)\n",
    "\n",
    "df_countries.dtypes"
   ],
   "id": "27d1e56f66f4fd65",
   "outputs": [
    {
     "data": {
      "text/plain": [
       "_country_id      int64\n",
       "country_name    object\n",
       "dtype: object"
      ]
     },
     "execution_count": 751,
     "metadata": {},
     "output_type": "execute_result"
    }
   ],
   "execution_count": 751
  },
  {
   "metadata": {
    "ExecuteTime": {
     "end_time": "2025-02-11T08:59:54.358248Z",
     "start_time": "2025-02-11T08:59:54.351698Z"
    }
   },
   "cell_type": "code",
   "source": [
    "# On veut join aux pays, mais on ne veut pas perdre de lignes de météorites si le pays n'existe pas (LEFT JOIN)\n",
    "df_meteorites = df_meteorites.merge(df_countries, how=\"left\", left_on=\"country_id\", right_on=\"_country_id\")"
   ],
   "id": "ae1246601a37f2f5",
   "outputs": [],
   "execution_count": 752
  },
  {
   "metadata": {},
   "cell_type": "markdown",
   "source": "### 5. Corrigeons les données",
   "id": "2a27689554640c19"
  },
  {
   "metadata": {
    "ExecuteTime": {
     "end_time": "2025-02-11T08:59:54.384731Z",
     "start_time": "2025-02-11T08:59:54.376357Z"
    }
   },
   "cell_type": "code",
   "source": "df_meteorites",
   "id": "cf43c2b80403c051",
   "outputs": [
    {
     "data": {
      "text/plain": [
       "             name     id name_type             rec_class    mass_g   fall  \\\n",
       "0          Aachen      1     Valid                    L5      21.0   Fell   \n",
       "1          Aarhus      2     Valid                    H6     720.0   Fell   \n",
       "2            Abee      6     Valid                   EH4  107000.0   Fell   \n",
       "3        Acapulco     10     Valid           Acapulcoite    1914.0   Fell   \n",
       "4         Achiras    370     Valid                    L6     780.0   Fell   \n",
       "...           ...    ...       ...                   ...       ...    ...   \n",
       "45711  Zillah 002  31356     Valid               Eucrite     172.0  Found   \n",
       "45712      Zinder  30409     Valid  Pallasite, ungrouped      46.0  Found   \n",
       "45713        Zlin  30410     Valid                    H4       3.3  Found   \n",
       "45714   Zubkovsky  31357     Valid                    L6    2167.0  Found   \n",
       "45715  Zulu Queen  30414     Valid                  L3.7     200.0  Found   \n",
       "\n",
       "         year  latitude  longitude  country_id  _country_id  \\\n",
       "0      1880.0  50.77500    6.08333        38.0         38.0   \n",
       "1      1951.0  56.18333   10.23333        31.0         31.0   \n",
       "2      1952.0  54.21667 -113.00000        20.0         20.0   \n",
       "3      1976.0  16.88333  -99.90000        67.0         67.0   \n",
       "4      1902.0 -33.16667  -64.95000         4.0          4.0   \n",
       "...       ...       ...        ...         ...          ...   \n",
       "45711  1990.0  29.03700   17.01850        61.0         61.0   \n",
       "45712  1999.0  13.78333    8.96667        75.0         75.0   \n",
       "45713  1939.0  49.25000   17.66667        29.0         29.0   \n",
       "45714  2003.0  49.78917   41.50460        90.0         90.0   \n",
       "45715  1976.0  33.98333 -115.68333       115.0        115.0   \n",
       "\n",
       "                   country_name  \n",
       "0                       Germany  \n",
       "1                       Denmark  \n",
       "2                        Canada  \n",
       "3                        Mexico  \n",
       "4                     Argentina  \n",
       "...                         ...  \n",
       "45711                     Libya  \n",
       "45712                     Niger  \n",
       "45713            Czech Republic  \n",
       "45714                    Russia  \n",
       "45715  United States of America  \n",
       "\n",
       "[45716 rows x 12 columns]"
      ],
      "text/html": [
       "<div>\n",
       "<style scoped>\n",
       "    .dataframe tbody tr th:only-of-type {\n",
       "        vertical-align: middle;\n",
       "    }\n",
       "\n",
       "    .dataframe tbody tr th {\n",
       "        vertical-align: top;\n",
       "    }\n",
       "\n",
       "    .dataframe thead th {\n",
       "        text-align: right;\n",
       "    }\n",
       "</style>\n",
       "<table border=\"1\" class=\"dataframe\">\n",
       "  <thead>\n",
       "    <tr style=\"text-align: right;\">\n",
       "      <th></th>\n",
       "      <th>name</th>\n",
       "      <th>id</th>\n",
       "      <th>name_type</th>\n",
       "      <th>rec_class</th>\n",
       "      <th>mass_g</th>\n",
       "      <th>fall</th>\n",
       "      <th>year</th>\n",
       "      <th>latitude</th>\n",
       "      <th>longitude</th>\n",
       "      <th>country_id</th>\n",
       "      <th>_country_id</th>\n",
       "      <th>country_name</th>\n",
       "    </tr>\n",
       "  </thead>\n",
       "  <tbody>\n",
       "    <tr>\n",
       "      <th>0</th>\n",
       "      <td>Aachen</td>\n",
       "      <td>1</td>\n",
       "      <td>Valid</td>\n",
       "      <td>L5</td>\n",
       "      <td>21.0</td>\n",
       "      <td>Fell</td>\n",
       "      <td>1880.0</td>\n",
       "      <td>50.77500</td>\n",
       "      <td>6.08333</td>\n",
       "      <td>38.0</td>\n",
       "      <td>38.0</td>\n",
       "      <td>Germany</td>\n",
       "    </tr>\n",
       "    <tr>\n",
       "      <th>1</th>\n",
       "      <td>Aarhus</td>\n",
       "      <td>2</td>\n",
       "      <td>Valid</td>\n",
       "      <td>H6</td>\n",
       "      <td>720.0</td>\n",
       "      <td>Fell</td>\n",
       "      <td>1951.0</td>\n",
       "      <td>56.18333</td>\n",
       "      <td>10.23333</td>\n",
       "      <td>31.0</td>\n",
       "      <td>31.0</td>\n",
       "      <td>Denmark</td>\n",
       "    </tr>\n",
       "    <tr>\n",
       "      <th>2</th>\n",
       "      <td>Abee</td>\n",
       "      <td>6</td>\n",
       "      <td>Valid</td>\n",
       "      <td>EH4</td>\n",
       "      <td>107000.0</td>\n",
       "      <td>Fell</td>\n",
       "      <td>1952.0</td>\n",
       "      <td>54.21667</td>\n",
       "      <td>-113.00000</td>\n",
       "      <td>20.0</td>\n",
       "      <td>20.0</td>\n",
       "      <td>Canada</td>\n",
       "    </tr>\n",
       "    <tr>\n",
       "      <th>3</th>\n",
       "      <td>Acapulco</td>\n",
       "      <td>10</td>\n",
       "      <td>Valid</td>\n",
       "      <td>Acapulcoite</td>\n",
       "      <td>1914.0</td>\n",
       "      <td>Fell</td>\n",
       "      <td>1976.0</td>\n",
       "      <td>16.88333</td>\n",
       "      <td>-99.90000</td>\n",
       "      <td>67.0</td>\n",
       "      <td>67.0</td>\n",
       "      <td>Mexico</td>\n",
       "    </tr>\n",
       "    <tr>\n",
       "      <th>4</th>\n",
       "      <td>Achiras</td>\n",
       "      <td>370</td>\n",
       "      <td>Valid</td>\n",
       "      <td>L6</td>\n",
       "      <td>780.0</td>\n",
       "      <td>Fell</td>\n",
       "      <td>1902.0</td>\n",
       "      <td>-33.16667</td>\n",
       "      <td>-64.95000</td>\n",
       "      <td>4.0</td>\n",
       "      <td>4.0</td>\n",
       "      <td>Argentina</td>\n",
       "    </tr>\n",
       "    <tr>\n",
       "      <th>...</th>\n",
       "      <td>...</td>\n",
       "      <td>...</td>\n",
       "      <td>...</td>\n",
       "      <td>...</td>\n",
       "      <td>...</td>\n",
       "      <td>...</td>\n",
       "      <td>...</td>\n",
       "      <td>...</td>\n",
       "      <td>...</td>\n",
       "      <td>...</td>\n",
       "      <td>...</td>\n",
       "      <td>...</td>\n",
       "    </tr>\n",
       "    <tr>\n",
       "      <th>45711</th>\n",
       "      <td>Zillah 002</td>\n",
       "      <td>31356</td>\n",
       "      <td>Valid</td>\n",
       "      <td>Eucrite</td>\n",
       "      <td>172.0</td>\n",
       "      <td>Found</td>\n",
       "      <td>1990.0</td>\n",
       "      <td>29.03700</td>\n",
       "      <td>17.01850</td>\n",
       "      <td>61.0</td>\n",
       "      <td>61.0</td>\n",
       "      <td>Libya</td>\n",
       "    </tr>\n",
       "    <tr>\n",
       "      <th>45712</th>\n",
       "      <td>Zinder</td>\n",
       "      <td>30409</td>\n",
       "      <td>Valid</td>\n",
       "      <td>Pallasite, ungrouped</td>\n",
       "      <td>46.0</td>\n",
       "      <td>Found</td>\n",
       "      <td>1999.0</td>\n",
       "      <td>13.78333</td>\n",
       "      <td>8.96667</td>\n",
       "      <td>75.0</td>\n",
       "      <td>75.0</td>\n",
       "      <td>Niger</td>\n",
       "    </tr>\n",
       "    <tr>\n",
       "      <th>45713</th>\n",
       "      <td>Zlin</td>\n",
       "      <td>30410</td>\n",
       "      <td>Valid</td>\n",
       "      <td>H4</td>\n",
       "      <td>3.3</td>\n",
       "      <td>Found</td>\n",
       "      <td>1939.0</td>\n",
       "      <td>49.25000</td>\n",
       "      <td>17.66667</td>\n",
       "      <td>29.0</td>\n",
       "      <td>29.0</td>\n",
       "      <td>Czech Republic</td>\n",
       "    </tr>\n",
       "    <tr>\n",
       "      <th>45714</th>\n",
       "      <td>Zubkovsky</td>\n",
       "      <td>31357</td>\n",
       "      <td>Valid</td>\n",
       "      <td>L6</td>\n",
       "      <td>2167.0</td>\n",
       "      <td>Found</td>\n",
       "      <td>2003.0</td>\n",
       "      <td>49.78917</td>\n",
       "      <td>41.50460</td>\n",
       "      <td>90.0</td>\n",
       "      <td>90.0</td>\n",
       "      <td>Russia</td>\n",
       "    </tr>\n",
       "    <tr>\n",
       "      <th>45715</th>\n",
       "      <td>Zulu Queen</td>\n",
       "      <td>30414</td>\n",
       "      <td>Valid</td>\n",
       "      <td>L3.7</td>\n",
       "      <td>200.0</td>\n",
       "      <td>Found</td>\n",
       "      <td>1976.0</td>\n",
       "      <td>33.98333</td>\n",
       "      <td>-115.68333</td>\n",
       "      <td>115.0</td>\n",
       "      <td>115.0</td>\n",
       "      <td>United States of America</td>\n",
       "    </tr>\n",
       "  </tbody>\n",
       "</table>\n",
       "<p>45716 rows × 12 columns</p>\n",
       "</div>"
      ]
     },
     "execution_count": 753,
     "metadata": {},
     "output_type": "execute_result"
    }
   ],
   "execution_count": 753
  },
  {
   "metadata": {},
   "cell_type": "markdown",
   "source": [
    "\n",
    "- Lire fichier CSV\n",
    "- Renommage (renommer en snake_case) DONE\n",
    "- Index et performance\n",
    "- Valider la qualité de données (checker si ya des long/lat nulles, checker enum) DONE\n",
    "- JOIN\n",
    "- Colonnes dérivées (calculer kg, calculer continent NorthAmerica boolean, calculer old, really old)\n",
    "- Filtres\n",
    "- Agrégations\n",
    "\n",
    "\n",
    "\n"
   ],
   "id": "6f8621510da49b37"
  },
  {
   "metadata": {},
   "cell_type": "markdown",
   "source": "### 6. Dériver des colonnes",
   "id": "96de6dfb20a840c1"
  },
  {
   "metadata": {
    "ExecuteTime": {
     "end_time": "2025-02-11T08:59:54.394099Z",
     "start_time": "2025-02-11T08:59:54.391257Z"
    }
   },
   "cell_type": "code",
   "source": [
    "# Dérivons le poids du météorite en KGs\n",
    "df_meteorites[\"mass_kg\"] = df_meteorites[\"mass_g\"] / 1000"
   ],
   "id": "f822eaa0b0f5b7a0",
   "outputs": [],
   "execution_count": 754
  },
  {
   "metadata": {
    "ExecuteTime": {
     "end_time": "2025-02-11T08:59:54.572901Z",
     "start_time": "2025-02-11T08:59:54.422901Z"
    }
   },
   "cell_type": "code",
   "source": [
    "# Dérivons le booléen is_north_american\n",
    "df_meteorites[\"is_in_north_america\"] = df_meteorites.apply(lambda row: row[\"country_name\"] in [\"United States of America\", \"Mexico\", \"Canada\"], axis=1)"
   ],
   "id": "24122197fbdeeb75",
   "outputs": [],
   "execution_count": 755
  },
  {
   "metadata": {
    "ExecuteTime": {
     "end_time": "2025-02-11T08:59:54.580520Z",
     "start_time": "2025-02-11T08:59:54.576212Z"
    }
   },
   "cell_type": "code",
   "source": [
    "# Dérivons le critère d'ancienneté de la découverte du météorite en 3 catégories: \"recent\", \"old\", \"very old\"\n",
    "df_meteorites['era_group'] = pd.cut(df_meteorites['year'], bins=3, labels=['Ancient', 'Old', 'Recent'])"
   ],
   "id": "8b0ecf3adddba988",
   "outputs": [],
   "execution_count": 756
  },
  {
   "metadata": {},
   "cell_type": "markdown",
   "source": "### 7. Corriger / Filtrer les données",
   "id": "8b892c5b532de9d2"
  },
  {
   "metadata": {
    "ExecuteTime": {
     "end_time": "2025-02-11T08:59:54.588999Z",
     "start_time": "2025-02-11T08:59:54.583481Z"
    }
   },
   "cell_type": "code",
   "source": [
    "# Filtrer les lignes qui ont une valeur nulle dans longitude ou latitude ou une valeur nulle dans country_name\n",
    "df_meteorites = df_meteorites.dropna(subset=['latitude', 'longitude', 'country_name'])"
   ],
   "id": "3a1fcd63df8a2122",
   "outputs": [],
   "execution_count": 757
  },
  {
   "metadata": {
    "ExecuteTime": {
     "end_time": "2025-02-11T08:59:54.595830Z",
     "start_time": "2025-02-11T08:59:54.591296Z"
    }
   },
   "cell_type": "code",
   "source": [
    "# Filtrer les lignes qui ont une valeur 0 dans longitude ou latitude\n",
    "df_meteorites = df_meteorites[(df_meteorites['latitude'] != 0) & (df_meteorites['longitude'] != 0)]"
   ],
   "id": "ed404bc553fba0d6",
   "outputs": [],
   "execution_count": 758
  },
  {
   "metadata": {},
   "cell_type": "markdown",
   "source": "### 8. Agrégations",
   "id": "e50ddf5cde12feae"
  },
  {
   "metadata": {
    "ExecuteTime": {
     "end_time": "2025-02-11T08:59:54.605236Z",
     "start_time": "2025-02-11T08:59:54.598176Z"
    }
   },
   "cell_type": "code",
   "source": [
    "# Grouper les lignes par pays, et calculer:\n",
    "# - l'année la plus ancienne (oldest_year)\n",
    "# - le nombre de météorites (meteorite_count)\n",
    "# - le poid moyen des météorites en grammes (mean_weight)\n",
    "df_grouped_by_country = df_meteorites.groupby(\"country_name\").agg(\n",
    "    oldest_year=(\"year\", \"min\"),\n",
    "    meteorite_count=(\"name\", \"count\"),\n",
    "    mean_weight=(\"mass_g\", \"mean\"),\n",
    ")"
   ],
   "id": "41fb890ce1a1b3e0",
   "outputs": [],
   "execution_count": 759
  },
  {
   "metadata": {},
   "cell_type": "markdown",
   "source": "### 9. Écrire le dataframe agrégé (grouped) dans un fichier Excel\n",
   "id": "fe823ce72282c9cb"
  },
  {
   "metadata": {
    "ExecuteTime": {
     "end_time": "2025-02-11T08:59:54.624044Z",
     "start_time": "2025-02-11T08:59:54.607961Z"
    }
   },
   "cell_type": "code",
   "source": "df_grouped_by_country.to_excel(\"data/meteorites_grouped_by_country.xlsx\", sheet_name=\"agregated\")",
   "id": "90ba844150b51c7b",
   "outputs": [],
   "execution_count": 760
  }
 ],
 "metadata": {
  "kernelspec": {
   "display_name": "Python 3",
   "language": "python",
   "name": "python3"
  },
  "language_info": {
   "codemirror_mode": {
    "name": "ipython",
    "version": 2
   },
   "file_extension": ".py",
   "mimetype": "text/x-python",
   "name": "python",
   "nbconvert_exporter": "python",
   "pygments_lexer": "ipython2",
   "version": "2.7.6"
  }
 },
 "nbformat": 4,
 "nbformat_minor": 5
}
