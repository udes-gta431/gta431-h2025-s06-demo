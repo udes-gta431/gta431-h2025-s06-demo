{
 "cells": [
  {
   "cell_type": "code",
   "id": "initial_id",
   "metadata": {
    "collapsed": true
   },
   "source": "import pandas as pd",
   "outputs": [],
   "execution_count": null
  },
  {
   "metadata": {},
   "cell_type": "markdown",
   "source": "## Colonnes dérivées",
   "id": "170676f62a60da76"
  },
  {
   "metadata": {},
   "cell_type": "code",
   "source": [
    "# lisons et regardons le contenu de notre dataframe\n",
    "df = pd.read_csv(\"data/accounts.csv\")\n",
    "df"
   ],
   "id": "a0b6042b6ae1ab27",
   "outputs": [],
   "execution_count": null
  },
  {
   "metadata": {},
   "cell_type": "code",
   "source": [
    "# créons une colonne qui représente 5% de la balance des comptes (méthode 1)\n",
    "df[\"five_percent\"] = df[\"balance\"] * 0.05"
   ],
   "id": "4d8aa791734873da",
   "outputs": [],
   "execution_count": null
  },
  {
   "metadata": {},
   "cell_type": "code",
   "source": [
    "# créons une colonne qui représente 10% de la balance des comptes (méthode 2)\n",
    "df = df.assign(ten_percent=df[\"balance\"] * 0.1)"
   ],
   "id": "399b7debf30004f5",
   "outputs": [],
   "execution_count": null
  },
  {
   "metadata": {
    "ExecuteTime": {
     "end_time": "2025-02-11T23:49:48.880790Z",
     "start_time": "2025-02-11T23:49:48.877581Z"
    }
   },
   "cell_type": "code",
   "source": [
    "# créons une colonne qui représente 15% de la balance des comptes (méthode 3)\n",
    "df.insert(0, \"fifteen_percent\", df[\"balance\"] * 0.15)"
   ],
   "id": "a2e21acf05467073",
   "outputs": [],
   "execution_count": 14
  },
  {
   "metadata": {
    "ExecuteTime": {
     "end_time": "2025-02-11T23:50:34.886596Z",
     "start_time": "2025-02-11T23:50:34.881784Z"
    }
   },
   "cell_type": "code",
   "source": [
    "# demandons à pandas de lire opening_date comme un datetime\n",
    "df[\"date\"] = pd.to_datetime(df[\"opening_date\"])"
   ],
   "id": "114b1f5e001a263f",
   "outputs": [],
   "execution_count": 16
  },
  {
   "metadata": {
    "ExecuteTime": {
     "end_time": "2025-02-11T23:51:56.948781Z",
     "start_time": "2025-02-11T23:51:56.945472Z"
    }
   },
   "cell_type": "code",
   "source": [
    "# utilisons notre datetime pour dériver l'année et le mois\n",
    "df[\"year\"] = df[\"date\"].dt.year\n",
    "df[\"month\"] = df[\"date\"].dt.month"
   ],
   "id": "8103216afa24a79a",
   "outputs": [],
   "execution_count": 20
  },
  {
   "metadata": {
    "ExecuteTime": {
     "end_time": "2025-02-11T23:53:36.201200Z",
     "start_time": "2025-02-11T23:53:36.196569Z"
    }
   },
   "cell_type": "code",
   "source": [
    "# mettre les comptes dans 3 catégories\n",
    "df[\"account_size_category\"] = pd.cut(df[\"balance\"], bins=3, labels=[\"Poorest\", \"Middle Class\", \"Rich\"])"
   ],
   "id": "8b5433e658b8f232",
   "outputs": [],
   "execution_count": 22
  }
 ],
 "metadata": {
  "kernelspec": {
   "display_name": "Python 3",
   "language": "python",
   "name": "python3"
  },
  "language_info": {
   "codemirror_mode": {
    "name": "ipython",
    "version": 2
   },
   "file_extension": ".py",
   "mimetype": "text/x-python",
   "name": "python",
   "nbconvert_exporter": "python",
   "pygments_lexer": "ipython2",
   "version": "2.7.6"
  }
 },
 "nbformat": 4,
 "nbformat_minor": 5
}
